{
 "cells": [
  {
   "cell_type": "markdown",
   "id": "add4044d",
   "metadata": {},
   "source": [
    "# IML Take-Home Assignment 2\n",
    "\n",
    "_Your names here_"
   ]
  },
  {
   "cell_type": "markdown",
   "id": "0920c3c0",
   "metadata": {},
   "source": [
    "## A. Multi-Armed Bandits (10 points)\n",
    "\n",
    "### Problem 1\n",
    "> Consider an agent performing a sequence of actions $a(i)$ and receiving a sequence of rewards $r(i).$ Suppose the agent can observe the reward of its last step before performing the next action.\n",
    ">\n",
    "> So far, we've described a wide range of decision processes. Describe an additional simplifying assumption that holds for any **multi-armed bandit problem**. _(2 points)_"
   ]
  },
  {
   "cell_type": "markdown",
   "id": "2c758d88",
   "metadata": {},
   "source": [
    "_Your answer here._"
   ]
  },
  {
   "cell_type": "markdown",
   "id": "91264d77",
   "metadata": {},
   "source": [
    "### Problem 2\n",
    "\n",
    "> Consider a multi-armed bandit problem of the form defined by `Policy.evaluate` below, where the reward of each arm is Bernoulli distributed."
   ]
  },
  {
   "cell_type": "code",
   "execution_count": null,
   "id": "189b1f48",
   "metadata": {},
   "outputs": [],
   "source": [
    "from numpy.typing import NDArray\n",
    "rom typing import List\n",
    "import numpy as np\n",
    "import pandas as pd\n",
    "\n",
    "\n",
    "class Policy:\n",
    "    def choose_arm(self, n_arms: int, arms: NDArray, rewards: NDArray) -> int:\n",
    "        \"\"\"\n",
    "        arms[i]: arm chosen at iteration i\n",
    "        rewards[i]: reward we got at iteration i\n",
    "        \"\"\"\n",
    "\n",
    "        raise NotImplementedError()\n",
    "\n",
    "    def evaluate(self, arm_values: List[float], n_iters=1000):\n",
    "        n_arms = len(arm_values)\n",
    "        arms = np.zeros(n_iters, dtype=np.int8)\n",
    "        rewards = np.zeros(n_iters, dtype=np.int8)\n",
    "\n",
    "        for i in range(n_iters):\n",
    "            arm = self.choose_arm(n_arms, arms, rewards)\n",
    "            reward = np.random.random() <= arm_values[arm]\n",
    "            arms[i] = arm\n",
    "            rewards[i] = reward\n",
    "\n",
    "        df = pd.DataFrame(\n",
    "            {\n",
    "                \"arms\": arms,\n",
    "                \"rewards\": rewards,\n",
    "            },\n",
    "            index=pd.Index(np.arange(n_iters), name=\"iteration\"),\n",
    "        )\n",
    "        return df\n",
    "\n",
    "\n",
    "class RandomPolicy(Policy):\n",
    "    def choose_arm(self, n_arms, arms, rewards) -> int:\n",
    "        return np.random.choice(n_arms)"
   ]
  },
  {
   "cell_type": "markdown",
   "id": "31803b37",
   "metadata": {},
   "source": [
    "> Now consider the policy `RandomPolicy`, which chooses a random arm at each iteration. What can you say about the average reward\n",
    "> $$\n",
    "R_T = \\frac 1 T \\sum_{i = 1}^T r(i)\n",
    "$$\n",
    "> that this policy will obtain over an episode with a very large number $T$ of iterations? Make a prediction for the case `arm_values=[0.1, 0.1, 0.1, 0.6]` and check it with an experiment. _(2 points)_"
   ]
  },
  {
   "cell_type": "markdown",
   "id": "7599457f",
   "metadata": {},
   "source": [
    "_Your answer here._"
   ]
  },
  {
   "cell_type": "markdown",
   "id": "cb60668e",
   "metadata": {},
   "source": [
    "### Problem 3\n",
    "\n",
    "> Implement the $\\epsilon$-greedy strategy. Let `arm_values=[0.1, 0.1, 0.1, 0.6]` and $\\epsilon = 0.2,$ and graph the cumulative mean reward over the course of one episode. _(2 points)_"
   ]
  },
  {
   "cell_type": "code",
   "execution_count": null,
   "id": "39da7eec",
   "metadata": {},
   "outputs": [],
   "source": [
    "from dataclasses import dataclass\n",
    "\n",
    "\n",
    "@dataclass\n",
    "class EpsilonGreedy(Policy):\n",
    "    epsilon: float\n",
    "\n",
    "    def choose_arm(self, n_arms, arms, rewards):\n",
    "        return 0  # Your code here"
   ]
  },
  {
   "cell_type": "code",
   "execution_count": null,
   "id": "681013fc",
   "metadata": {},
   "outputs": [],
   "source": [
    "import seaborn as sns\n",
    "\n",
    "\n",
    "p = EpsilonGreedy(epsilon=0.2)\n",
    "\n",
    "df = p.evaluate([0.1, 0.1, 0.1, 0.6])\n",
    "sns.lineplot(df, x=\"iteration\", y=df[\"rewards\"].expanding().mean())"
   ]
  },
  {
   "cell_type": "markdown",
   "id": "320cfab4",
   "metadata": {
    "lines_to_next_cell": 2
   },
   "source": [
    "### Problem 4\n",
    "\n",
    "> Our _regret_ at iteration $T$ is the difference\n",
    "> $$\n",
    "\\rho_T = T V - \\sum_{i = 1}^T r(i)\n",
    "$$\n",
    "> between the expected reward of $T$ draws from the arm with maximum expected reward $V$ and our empirical reward.\n",
    ">\n",
    "> Consider the behavior of $\\rho_T$ under an $\\epsilon$-greedy strategy for large $T.$ Predict the limit of $\\rho_T/T$ for large $T$ as a function of $\\epsilon$. Do some experiments and make a graph to validate your prediction. _(2 points)_"
   ]
  },
  {
   "cell_type": "markdown",
   "id": "d8598b68",
   "metadata": {},
   "source": [
    "_Your answer here._"
   ]
  },
  {
   "cell_type": "code",
   "execution_count": null,
   "id": "2564d974",
   "metadata": {},
   "outputs": [],
   "source": [
    "# Your code here"
   ]
  },
  {
   "cell_type": "markdown",
   "id": "7747fffc",
   "metadata": {
    "lines_to_next_cell": 2
   },
   "source": [
    "### Problem 5\n",
    "\n",
    "> A policy is called _zero-regret_ if $\\rho_T/T$ converges to $0$ for large $T$.\n",
    ">\n",
    "> Suppose you have the prior knowledge that only one arm ever gives non-zero rewards. Design a policy that is zero-regret under this assumption. Check experimentally that it is. _(2 points)_"
   ]
  },
  {
   "cell_type": "code",
   "execution_count": null,
   "id": "80c876ae",
   "metadata": {},
   "outputs": [],
   "source": [
    "class SimpleZeroRegretPolicy(Policy):\n",
    "    def choose_arm(self, n_arms, arms, rewards):\n",
    "        raise NotImplementedError()  # Your code here\n",
    "\n",
    "\n",
    "# ZeroRegretPolicy().evaluate([0, 0.5, 0, 0])"
   ]
  },
  {
   "cell_type": "markdown",
   "id": "84394f36",
   "metadata": {
    "lines_to_next_cell": 2
   },
   "source": [
    "### Problem 6 (bonus)\n",
    "\n",
    "> Now suppose that all arms except one give Bernoulli distributed rewards with mean $0.4$, and the remaining arm gives Bernoulli distributed rewards with mean $0.6.$ Implement a Thompson sampling policy adapted to this prior knowledge. Plot the regret $\\rho_T$ over a few episodes. _(2 points)_"
   ]
  },
  {
   "cell_type": "code",
   "execution_count": null,
   "id": "3289c146",
   "metadata": {},
   "outputs": [],
   "source": [
    "class ThompsonPolicy(Policy):\n",
    "    def choose_arm(self, n_arms, arms, rewards):\n",
    "        raise NotImplementedError()  # Your code here\n",
    "\n",
    "\n",
    "# ThompsonPolicy().evaluate([0.4, 0.6, 0.4, 0.4])"
   ]
  },
  {
   "cell_type": "markdown",
   "id": "2f74b69e",
   "metadata": {},
   "source": [
    "## B. Reinforcement Learning (10 points)\n",
    "\n",
    "The following class defines a kind of gridworld environment that we'll use for reinforcement learning."
   ]
  },
  {
   "cell_type": "code",
   "execution_count": null,
   "id": "df27c991",
   "metadata": {
    "lines_to_next_cell": 2
   },
   "outputs": [],
   "source": [
    "from typing import Optional\n",
    "import numpy as np\n",
    "\n",
    "\n",
    "class Dungeon:\n",
    "    def __init__(self, s: str, p_slippery=0.5):\n",
    "        self.tile_mat = self._read_dungeon(s)\n",
    "        self.h, self.w = self.tile_mat.shape\n",
    "        self.n_states = self.h * self.w\n",
    "        self.tiles = self.tile_mat.flatten()\n",
    "        self.p_slippery = p_slippery\n",
    "\n",
    "        self.start = self.tile_indices(\"s\")[0]\n",
    "        self.end = self.tile_indices(\"e\")[0]\n",
    "        self.transitions = self._build_transitions()\n",
    "        self.rewards = -np.ones_like(self.tiles, dtype=float)\n",
    "\n",
    "    def tile_indices(self, char: str) -> np.ndarray:\n",
    "        return np.where(self.tiles == char)[0]\n",
    "\n",
    "    def _read_dungeon(self, s: str) -> np.ndarray:\n",
    "        lines = s.strip().split(\"\\n\")\n",
    "        max_len = max(len(line) for line in lines)\n",
    "        return np.array([list(line.ljust(max_len)) for line in lines])\n",
    "\n",
    "    def _evaluate_action(self, action: np.ndarray, pos: np.ndarray) -> np.ndarray:\n",
    "        b, _ = pos.shape  # (b, 2)\n",
    "        start_pos = np.array([x[0] for x in np.where(self.tile_mat == \"s\")])\n",
    "\n",
    "        directions = np.array([[1, 0], [-1, 0], [0, 1], [0, -1]])\n",
    "        pos_ = pos + directions[action]  # Move\n",
    "        pos_ = np.maximum(pos_, 0)  # Clip to bounds\n",
    "        pos_ = np.minimum(pos_, np.array([self.h - 1, self.w - 1]))\n",
    "        square_ = self.tile_mat[pos_[:, 0], pos_[:, 1], None]\n",
    "        pos_ = np.where(square_ == \"#\", pos, pos_)  # Don't move into walls\n",
    "        pos_ = np.where(square_ == \"O\", start_pos, pos_)  # Holes teleport to start\n",
    "        return pos_  # (b, 2)\n",
    "\n",
    "    def _build_transitions(self) -> np.ndarray:\n",
    "        action, y, x = [arr.flatten() for arr in np.mgrid[0:4, 0 : self.h, 0 : self.w]]\n",
    "        y_, x_ = self._evaluate_action(action, np.stack([y, x], axis=-1)).T\n",
    "        transitions = np.eye(self.n_states)[\n",
    "            np.ravel_multi_index((y_, x_), (self.h, self.w))\n",
    "        ]\n",
    "        transitions = transitions.reshape((4, self.h * self.w, self.h * self.w))\n",
    "        action_transfer = (self.p_slippery / 4) * np.ones((4, 4)) + (\n",
    "            1 - self.p_slippery\n",
    "        ) * np.eye(4)\n",
    "        return np.tensordot(action_transfer, transitions, axes=(1, 0))\n",
    "\n",
    "    def show(self, vect: Optional[np.ndarray] = None, size=0.5, values=True):\n",
    "        import matplotlib.pyplot as plt\n",
    "        from matplotlib.patches import Rectangle\n",
    "        from matplotlib.colors import Normalize\n",
    "\n",
    "        fig, ax = plt.subplots()\n",
    "        plt.tight_layout()\n",
    "        ax.set_xlim(-0.5, self.w - 0.5)\n",
    "        ax.set_ylim(self.h - 0.5, -0.5)\n",
    "        fig.set_size_inches(self.w * size, self.h * size)\n",
    "        ax.set_aspect(1)\n",
    "        ax.set_axis_off()\n",
    "\n",
    "        cmap = plt.get_cmap(\"Blues\")\n",
    "        if vect is not None and vect.dtype.type != np.str_:\n",
    "            norm = Normalize(vect.min(), vect.max())\n",
    "\n",
    "        y, x = [x.flatten() for x in np.mgrid[0 : self.h, 0 : self.w]]\n",
    "        chars = self.tile_mat[y, x].flatten()\n",
    "        for i in range(self.n_states):\n",
    "            text_opts = lambda style: {\n",
    "                \"color\": \"black\",\n",
    "                \"ha\": \"center\",\n",
    "                \"va\": \"center\",\n",
    "                \"fontweight\": style,\n",
    "            }\n",
    "            pos = lambda offset: (x[i], y[i] + offset)\n",
    "            ax.text(*pos(0.2), chars[i], **text_opts(\"bold\"))  # pyright: ignore\n",
    "\n",
    "            rect_opts = {\"facecolor\": \"white\", \"edgecolor\": \"grey\"}\n",
    "            if vect is not None and vect.dtype.type != np.str_:\n",
    "                d = vect[i]\n",
    "                rect_opts[\"facecolor\"] = cmap(norm(vect[i]) * 0.8)  # pyright: ignore\n",
    "            ax.add_patch(Rectangle((x[i] - 0.5, y[i] - 0.5), 1, 1, **rect_opts))  # pyright: ignore\n",
    "\n",
    "            if values and vect is not None:\n",
    "                if vect.dtype.type == np.str_:\n",
    "                    text = vect[i]\n",
    "                else:\n",
    "                    text = f\"{vect[i]:.2f}\"\n",
    "                ax.text(*pos(-0.2), text, **text_opts(\"regular\"))  # pyright: ignore"
   ]
  },
  {
   "cell_type": "markdown",
   "id": "df928aef",
   "metadata": {
    "lines_to_next_cell": 2
   },
   "source": [
    "Characters in the dungeon have the following meanings.\n",
    "\n",
    "- `s`: our starting position\n",
    "- `e`: the exit of the dungeon\n",
    "- `#`: impassable walls\n",
    "- `O`: holes that teleport us back to the start\n",
    "\n",
    "Our goal is to get from the start to the end as quickly as possible. At each iteration, we can choose to move up, down, left or right. However, the dungeon floor is slippery, so with some probability `p_slippery` we'll move in a random direction instead.\n",
    "\n",
    "`simple_dungeon()` makes a small dungeon with some holes in the center."
   ]
  },
  {
   "cell_type": "code",
   "execution_count": null,
   "id": "1c999fe8",
   "metadata": {},
   "outputs": [],
   "source": [
    "def simple_dungeon(**kwargs):\n",
    "    return Dungeon(\n",
    "        \"\"\"\n",
    "#          #\n",
    "# s        #\n",
    "####OOOOO  #\n",
    "# e        #\n",
    "#          #\n",
    "\"\"\",\n",
    "        **kwargs,\n",
    "    )\n",
    "\n",
    "\n",
    "dungeon = simple_dungeon()\n",
    "# Show distribution over states conditional on the \"right\" action\n",
    "dungeon.show(dungeon.transitions[2, dungeon.start], values=False)"
   ]
  },
  {
   "cell_type": "markdown",
   "id": "a003f122",
   "metadata": {},
   "source": [
    "### Problem 1\n",
    "> `dungeon.transitions[action, state, next_state]` gives the probability that `action` will move us from `state` to `next_state`. Suppose we start at the initial state and perform the actions `[0, 2, 2]` in sequence. Compute our resulting probability distribution over states and display it using `Dungeon.show()`. _(2 points)_"
   ]
  },
  {
   "cell_type": "code",
   "execution_count": null,
   "id": "0e441055",
   "metadata": {
    "lines_to_next_cell": 2
   },
   "outputs": [],
   "source": [
    "# Your code here"
   ]
  },
  {
   "cell_type": "markdown",
   "id": "fc11f6c2",
   "metadata": {
    "lines_to_next_cell": 2
   },
   "source": [
    "### Problem 2\n",
    "\n",
    "> Let $V(s)$ denote the expected number of steps that it would take the optimal policy to get from state $s$ to the terminal state.\n",
    ">\n",
    "> Write down Bellman optimality conditions for these \"state values\" $V(s).$ Using value iteration, write a function to compute them. Display the state values of `simple_dungeon(p_slippery=0.5)` using `Dungeon.show()`. (Set the value of inaccessible states occupied by walls and holes to 0.)"
   ]
  },
  {
   "cell_type": "code",
   "execution_count": null,
   "id": "65dfe235",
   "metadata": {},
   "outputs": [],
   "source": [
    "def compute_values(dungeon: Dungeon) -> np.ndarray:\n",
    "    values = np.zeros(dungeon.n_states)\n",
    "    # Your code here\n",
    "    return values\n",
    "\n",
    "\n",
    "dungeon = simple_dungeon(p_slippery=0.5)\n",
    "state_values = compute_values(dungeon)\n",
    "# dungeon.show(state_values, values=False)"
   ]
  },
  {
   "cell_type": "markdown",
   "id": "04b38460",
   "metadata": {
    "lines_to_next_cell": 2
   },
   "source": [
    "### Problem 3\n",
    "> Explain how we can compute an optimal policy using the transition probabilities and the state values $V(s).$ Compute an optimal policy for `simple_dungeon(p_slippery=0.5)` and show it. _(2 points)_"
   ]
  },
  {
   "cell_type": "code",
   "execution_count": null,
   "id": "689cb4ae",
   "metadata": {},
   "outputs": [],
   "source": [
    "def compute_actions(dungeon: Dungeon, values: np.ndarray) -> np.ndarray:\n",
    "    actions = np.repeat(0, dungeon.n_states)  # Your code here\n",
    "\n",
    "    # Convert action codes to ASCII\n",
    "    chars = np.array([\"v\", \"^\", \">\", \"<\"])[actions]\n",
    "    chars[np.isin(dungeon.tiles, np.array([\"#\", \"O\", \"e\"]))] = \" \"\n",
    "    return chars\n",
    "\n",
    "\n",
    "dungeon = simple_dungeon(p_slippery=0.5)\n",
    "state_values = compute_values(dungeon)\n",
    "best_actions = compute_actions(dungeon, state_values)\n",
    "dungeon.show(best_actions)"
   ]
  },
  {
   "cell_type": "markdown",
   "id": "ae6db06d",
   "metadata": {
    "lines_to_next_cell": 2
   },
   "source": [
    "### Problem 4\n",
    "> Write an agent that learns to complete the dungeon using Q-learning.\n",
    ">\n",
    "> \"Reward\" the agent with a value of $-1$ at each step and do not use exponential discounting, so that negative total reward equals the number of steps taken to complete the dungeon. Plot the reward over $500$ episodes of training on `simple_dungeon(p_slippery=0.2)`. Finally, disable exploration and report the average number of steps your agent takes over 100 episodes. This should be close to the optimal value you computed above. (The parameters of the Q-learning algorithm are up to you.) _(4 points)_"
   ]
  },
  {
   "cell_type": "code",
   "execution_count": null,
   "id": "85b0bc16",
   "metadata": {},
   "outputs": [],
   "source": [
    "class DungeonAgent:\n",
    "    def __init__(self, n_states, epsilon=0.2, update=0.1):\n",
    "        self.q_values = np.zeros((4, n_states))\n",
    "        self.epsilon = epsilon\n",
    "        self.update = update\n",
    "        self.visited = np.zeros(n_states, dtype=np.int32)\n",
    "\n",
    "    def choose_action(self, state: int) -> int:\n",
    "        return 0  # Your code here\n",
    "\n",
    "    # Stuff missing here??\n",
    "\n",
    "    def run_episode(self, dungeon: Dungeon, max_iter=1000):\n",
    "        states = np.zeros(max_iter, dtype=np.int16)\n",
    "        states[0] = dungeon.start\n",
    "\n",
    "        step = 0\n",
    "        for step in range(max_iter - 1):\n",
    "            state = states[step]\n",
    "            action = self.choose_action(state)\n",
    "            next_state = np.random.choice(\n",
    "                dungeon.h * dungeon.w, p=dungeon.transitions[action, state]\n",
    "            )\n",
    "            states[step + 1] = next_state\n",
    "\n",
    "            # Stuff missing here??\n",
    "\n",
    "        return states[: step + 1]"
   ]
  },
  {
   "cell_type": "code",
   "execution_count": null,
   "id": "86e76153",
   "metadata": {},
   "outputs": [],
   "source": [
    "from tqdm import tqdm\n",
    "import seaborn as sns\n",
    "\n",
    "dungeon = simple_dungeon(p_slippery=0.2)\n",
    "agent = DungeonAgent(dungeon.n_states)\n",
    "\n",
    "\n",
    "def train_agent(agent: DungeonAgent, dungeon: Dungeon, episodes):\n",
    "    steps = np.zeros(episodes)\n",
    "    for i in tqdm(range(episodes)):\n",
    "        steps[i] = agent.run_episode(dungeon).shape[0]\n",
    "    return steps\n",
    "\n",
    "\n",
    "# Your code here\n",
    "# sns.lineplot(-train_agent(agent, dungeon, episodes=500))"
   ]
  },
  {
   "cell_type": "markdown",
   "id": "d0101764",
   "metadata": {},
   "source": [
    "### Problem 5 (bonus)\n",
    "> Do Exercise 4.9 from page 106 of Sutton's _Introduction to Reinforcement Learning_, available at <http://incompleteideas.net/book/RLbook2020.pdf>. _(2 points)_"
   ]
  }
 ],
 "metadata": {
  "jupytext": {
   "cell_metadata_filter": "-all",
   "main_language": "python",
   "notebook_metadata_filter": "-all"
  }
 },
 "nbformat": 4,
 "nbformat_minor": 5
}
